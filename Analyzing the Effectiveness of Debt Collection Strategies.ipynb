{
 "cells": [
  {
   "cell_type": "markdown",
   "metadata": {},
   "source": [
    "## Analyzing the Effectiveness of Debt Collection Strategies\n",
    "\n",
    "\n",
    "**1. Intoduction**\n",
    "\n",
    "When trying to collect some of the money from a debt that has been legally declared \"uncollectable\", banks will assess the expected recovery amount using a function. This function uses a variety of factors to determine the willingnesss of a customer to pay, such as the size of the debt, the probability of the customer paying, and a variety of other factors. \n",
    "\n",
    "Recovery strategies are seperated into levels, and they vary depending on the expected recovery amount. The higher the expected recovery amount, the more resources are employed by the bank to recover it. Level 0 customers are simply added to a database where they are sent automated emails and phone calls. Level 1 customers receive \\\\$50 worth of attention from human rescources within the bank who attempt to optain payments. Level 2 customers receive an additional \\\\$50 worth, and so on. \n",
    "\n",
    "This notebook determines whether these additional expenditures in manpower from the Bank actually result in enough of an increase in recovered debts to justify their costs. "
   ]
  },
  {
   "cell_type": "code",
   "execution_count": 19,
   "metadata": {},
   "outputs": [
    {
     "data": {
      "text/html": [
       "<div>\n",
       "<style scoped>\n",
       "    .dataframe tbody tr th:only-of-type {\n",
       "        vertical-align: middle;\n",
       "    }\n",
       "\n",
       "    .dataframe tbody tr th {\n",
       "        vertical-align: top;\n",
       "    }\n",
       "\n",
       "    .dataframe thead th {\n",
       "        text-align: right;\n",
       "    }\n",
       "</style>\n",
       "<table border=\"1\" class=\"dataframe\">\n",
       "  <thead>\n",
       "    <tr style=\"text-align: right;\">\n",
       "      <th></th>\n",
       "      <th>id</th>\n",
       "      <th>expected_recovery_amount</th>\n",
       "      <th>actual_recovery_amount</th>\n",
       "      <th>recovery_strategy</th>\n",
       "      <th>age</th>\n",
       "      <th>sex</th>\n",
       "    </tr>\n",
       "  </thead>\n",
       "  <tbody>\n",
       "    <tr>\n",
       "      <th>0</th>\n",
       "      <td>2030</td>\n",
       "      <td>194</td>\n",
       "      <td>263.540</td>\n",
       "      <td>Level 0 Recovery</td>\n",
       "      <td>19</td>\n",
       "      <td>Male</td>\n",
       "    </tr>\n",
       "    <tr>\n",
       "      <th>1</th>\n",
       "      <td>1150</td>\n",
       "      <td>486</td>\n",
       "      <td>416.090</td>\n",
       "      <td>Level 0 Recovery</td>\n",
       "      <td>25</td>\n",
       "      <td>Female</td>\n",
       "    </tr>\n",
       "    <tr>\n",
       "      <th>2</th>\n",
       "      <td>380</td>\n",
       "      <td>527</td>\n",
       "      <td>429.350</td>\n",
       "      <td>Level 0 Recovery</td>\n",
       "      <td>27</td>\n",
       "      <td>Male</td>\n",
       "    </tr>\n",
       "    <tr>\n",
       "      <th>3</th>\n",
       "      <td>1838</td>\n",
       "      <td>536</td>\n",
       "      <td>296.990</td>\n",
       "      <td>Level 0 Recovery</td>\n",
       "      <td>25</td>\n",
       "      <td>Male</td>\n",
       "    </tr>\n",
       "    <tr>\n",
       "      <th>4</th>\n",
       "      <td>1995</td>\n",
       "      <td>541</td>\n",
       "      <td>346.385</td>\n",
       "      <td>Level 0 Recovery</td>\n",
       "      <td>34</td>\n",
       "      <td>Male</td>\n",
       "    </tr>\n",
       "  </tbody>\n",
       "</table>\n",
       "</div>"
      ],
      "text/plain": [
       "     id  expected_recovery_amount  actual_recovery_amount recovery_strategy  \\\n",
       "0  2030                       194                 263.540  Level 0 Recovery   \n",
       "1  1150                       486                 416.090  Level 0 Recovery   \n",
       "2   380                       527                 429.350  Level 0 Recovery   \n",
       "3  1838                       536                 296.990  Level 0 Recovery   \n",
       "4  1995                       541                 346.385  Level 0 Recovery   \n",
       "\n",
       "   age     sex  \n",
       "0   19    Male  \n",
       "1   25  Female  \n",
       "2   27    Male  \n",
       "3   25    Male  \n",
       "4   34    Male  "
      ]
     },
     "execution_count": 19,
     "metadata": {},
     "output_type": "execute_result"
    }
   ],
   "source": [
    "# Import modules\n",
    "import pandas as pd\n",
    "import numpy as np\n",
    "\n",
    "# Read in dataset\n",
    "df = pd.read_csv('bank_data.csv')\n",
    "\n",
    "# Print the first few rows of the DataFrame\n",
    "df.head()"
   ]
  },
  {
   "cell_type": "markdown",
   "metadata": {},
   "source": [
    "**2. Exploratory Data Analysis and Visualization ** \n",
    "\n",
    "Do other features vary systematically with the expected recovery amounts, such as age, or sex? The data requires explaratory analysis to determine if there are other factors that can affect a banks ability to recover their debt. It is important to determine whether variations in amount recovered are due to the banks recovery strategies and not other outlying factors. \n",
    "\n",
    "First, a scatter plot comparing Age vs Expected Recovery Amount will be used to see if there is an obvious jump in the amount recovered around debts which are above \\\\$1000, where the Level 1 recovery strategy is employed. "
   ]
  },
  {
   "cell_type": "code",
   "execution_count": 20,
   "metadata": {},
   "outputs": [
    {
     "name": "stderr",
     "output_type": "stream",
     "text": [
      "No handles with labels found to put in legend.\n"
     ]
    },
    {
     "data": {
      "image/png": "[encoded data removed]",
      "text/plain": [
       "<Figure size 432x288 with 1 Axes>"
      ]
     },
     "metadata": {
      "needs_background": "light"
     },
     "output_type": "display_data"
    }
   ],
   "source": [
    "# Scatter plot of Age vs. Expected Recovery Amount\n",
    "from matplotlib import pyplot as plt\n",
    "%matplotlib inline\n",
    "plt.scatter(x=df['expected_recovery_amount'], y=df['age'], c=\"g\", s=2)\n",
    "plt.xlim(0, 2000)\n",
    "plt.ylim(0, 60)\n",
    "plt.xlabel(...)\n",
    "plt.ylabel(...)\n",
    "plt.legend(loc=2)\n",
    "\n",
    "plt.show()"
   ]
  },
  {
   "cell_type": "markdown",
   "metadata": {},
   "source": [
    "**3. The Effects of Age on Expected Recovery Amount**\n",
    "\n",
    "The scatter plot did not reveal any obvious anomolies around \\\\$1000. \n",
    "\n",
    "Next, the Kruskal-Wallis test will be employed to verify numerically what was seen in the Scatter Plot. The range explored will be between \\\\$900 and \\\\$1100, which is right around the threshold of $1000 being examined. If there is a discontinuity in the average age of the customers around this threshold, it would indicate that age plays a meaningful role in the debt collection strategies of the bank. "
   ]
  },
  {
   "cell_type": "code",
   "execution_count": 21,
   "metadata": {},
   "outputs": [
    {
     "data": {
      "text/plain": [
       "KruskalResult(statistic=3.4572342749517513, pvalue=0.06297556896097407)"
      ]
     },
     "execution_count": 21,
     "metadata": {},
     "output_type": "execute_result"
    }
   ],
   "source": [
    "# Import stats module\n",
    "from scipy import stats\n",
    "\n",
    "# Compute average age just below and above the threshold\n",
    "era_900_1100 = df.loc[(df['expected_recovery_amount']<1100) & \n",
    "                      (df['expected_recovery_amount']>=900)]\n",
    "by_recovery_strategy = era_900_1100.groupby(['recovery_strategy'])\n",
    "by_recovery_strategy['age'].describe().unstack()\n",
    "\n",
    "# Perform Kruskal-Wallis test \n",
    "Level_0_age = era_900_1100.loc[df['recovery_strategy']==\"Level 0 Recovery\"]['age']\n",
    "Level_1_age = era_900_1100.loc[df['recovery_strategy']==\"Level 1 Recovery\"]['age']\n",
    "stats.kruskal(Level_0_age,Level_1_age) "
   ]
  },
  {
   "cell_type": "markdown",
   "metadata": {},
   "source": [
    "**4. The Effects of Sex on Expected Recovery Amount**\n",
    "\n",
    "Neither exploring the data visually through a scatter plot nor statistically through a Kruskal-Wallis test revealed a major difference in the average customer age near the Level I threshold of \\\\$1000. \n",
    "\n",
    "Next, the potential effects that sex may have on Expected Recovery Amount must also be determined using cross-tabs and chi-square tests of the percentage of customers that are male vs. female."
   ]
  },
  {
   "cell_type": "code",
   "execution_count": 22,
   "metadata": {},
   "outputs": [
    {
     "name": "stdout",
     "output_type": "stream",
     "text": [
      "sex                Female  Male\n",
      "recovery_strategy              \n",
      "Level 0 Recovery       32    57\n",
      "Level 1 Recovery       39    55\n",
      "0.5377947810444592\n"
     ]
    }
   ],
   "source": [
    "# Number of customers in each category\n",
    "crosstab = pd.crosstab(df.loc[(df['expected_recovery_amount']<1100) & \n",
    "                              (df['expected_recovery_amount']>=900)]['recovery_strategy'], \n",
    "                       df['sex'])\n",
    "\n",
    "print(crosstab)\n",
    "\n",
    "# Chi-square test\n",
    "chi2_stat, p_val, dof, ex = stats.chi2_contingency(crosstab)\n",
    "\n",
    "print(p_val)\n",
    "                "
   ]
  },
  {
   "cell_type": "markdown",
   "metadata": {},
   "source": [
    "**5. Exploratory Graphical Analysis on Recovery Amounts**\n",
    "\n",
    "Customers close to the Level 1 Threshold of \\\\$1000 are on average similar in their age and sex. The relationship between the actual recovery amount and the Expected Recovery Amount can now be examined with confidence that the effect of outlying variables on these two features of interest are negligable. \n",
    "\n",
    "Next, a scatter plot will be developed in order to visualize the relationship between Active Recovery Amount and Expected Recovery Amount. It is helpful in determining if there is any obvious disconuity between EPA's of \\\\$900 and \\\\$1100, as if there was, it would indicate that there is a substantial difference between the bank's Level 0 and Level 1 strategies. "
   ]
  },
  {
   "cell_type": "code",
   "execution_count": 23,
   "metadata": {},
   "outputs": [
    {
     "name": "stderr",
     "output_type": "stream",
     "text": [
      "No handles with labels found to put in legend.\n"
     ]
    },
    {
     "data": {
      "image/png": "[encoded data removed]",
      "text/plain": [
       "<Figure size 432x288 with 1 Axes>"
      ]
     },
     "metadata": {
      "needs_background": "light"
     },
     "output_type": "display_data"
    }
   ],
   "source": [
    "# Scatter plot of Actual Recovery Amount vs. Expected Recovery Amount \n",
    "plt.scatter(x=df['expected_recovery_amount'], y=df['actual_recovery_amount'], c=\"g\", s=2)\n",
    "plt.xlim(900, 1100)\n",
    "plt.ylim(0, 2000)\n",
    "plt.xlabel(\"Expected Recovery Amount\")\n",
    "plt.ylabel(\"Actual Recovery Amount\")\n",
    "plt.legend(loc=2)\n",
    "plt.show()"
   ]
  },
  {
   "cell_type": "markdown",
   "metadata": {},
   "source": [
    "**6. Measuring the Discontinuity Visualized in the Graphical Analysis**\n",
    "\n",
    "With a cursory glance, there appears to be discontinuity in the Actual Recovery Amount as the Expected Recovery Amount reaches \\\\$1000, which would indicate that the Level 1 strategies do have an effect on Actual Recovery Amount. A statistical test is now neccessary to verify this disconuity. \n",
    "\n",
    "The Kruskal-Wallis test will be used to verify if there is a discontinuity with the Actual Recovery Amount above the Level 1 threshold of \\\\$1000, just as was done with Age. The two parameters used in the test will be the Expected Recovery Amount from \\\\$900 to \\\\$1100 and then a narrower range of \\\\$950 to \\\\$1050 in order to verify that the results are consistent. "
   ]
  },
  {
   "cell_type": "code",
   "execution_count": 24,
   "metadata": {},
   "outputs": [
    {
     "name": "stdout",
     "output_type": "stream",
     "text": [
      "KruskalResult(statistic=65.37966302528878, pvalue=6.177308752803109e-16)\n"
     ]
    },
    {
     "data": {
      "text/plain": [
       "KruskalResult(statistic=30.246000000000038, pvalue=3.80575314300276e-08)"
      ]
     },
     "execution_count": 24,
     "metadata": {},
     "output_type": "execute_result"
    }
   ],
   "source": [
    "# Compute average actual recovery amount just below and above the threshold\n",
    "by_recovery_strategy['actual_recovery_amount'].describe().unstack()\n",
    "\n",
    "# Perform Kruskal-Wallis test\n",
    "Level_0_actual = era_900_1100.loc[df['recovery_strategy']=='Level 0 Recovery']['actual_recovery_amount']\n",
    "Level_1_actual = era_900_1100.loc[df['recovery_strategy']=='Level 1 Recovery']['actual_recovery_amount']\n",
    "print(stats.kruskal(Level_0_actual, Level_1_actual))\n",
    "\n",
    "# Repeat for a smaller range of $950 to $1050\n",
    "era_950_1050 = df.loc[(df['expected_recovery_amount']<1050) & \n",
    "                      (df['expected_recovery_amount']>=950)]\n",
    "Level_0_actual = era_950_1050.loc[df['recovery_strategy']=='Level 0 Recovery']['actual_recovery_amount']\n",
    "Level_1_actual = era_950_1050.loc[df['recovery_strategy']=='Level 1 Recovery']['actual_recovery_amount']\n",
    "stats.kruskal(Level_0_actual, Level_1_actual)\n"
   ]
  },
  {
   "cell_type": "markdown",
   "metadata": {},
   "source": [
    "**7. Regression modeling**\n",
    "\n",
    "A regression-based approach will be used to determine the program impact at the Level 1 threshold of \\\\$1000. \n",
    "\n",
    "Two models will be used. The first will predict the Actual Recovery Amount as a function of the Expected Recovery Amount, and it will determine how the two variables relate to eachother. "
   ]
  },
  {
   "cell_type": "code",
   "execution_count": 25,
   "metadata": {},
   "outputs": [
    {
     "data": {
      "text/html": [
       "<table class=\"simpletable\">\n",
       "<caption>OLS Regression Results</caption>\n",
       "<tr>\n",
       "  <th>Dep. Variable:</th>    <td>actual_recovery_amount</td> <th>  R-squared:         </th> <td>   0.261</td>\n",
       "</tr>\n",
       "<tr>\n",
       "  <th>Model:</th>                      <td>OLS</td>          <th>  Adj. R-squared:    </th> <td>   0.256</td>\n",
       "</tr>\n",
       "<tr>\n",
       "  <th>Method:</th>                <td>Least Squares</td>     <th>  F-statistic:       </th> <td>   63.78</td>\n",
       "</tr>\n",
       "<tr>\n",
       "  <th>Date:</th>                <td>Fri, 27 Aug 2021</td>    <th>  Prob (F-statistic):</th> <td>1.56e-13</td>\n",
       "</tr>\n",
       "<tr>\n",
       "  <th>Time:</th>                    <td>15:26:38</td>        <th>  Log-Likelihood:    </th> <td> -1278.9</td>\n",
       "</tr>\n",
       "<tr>\n",
       "  <th>No. Observations:</th>         <td>   183</td>         <th>  AIC:               </th> <td>   2562.</td>\n",
       "</tr>\n",
       "<tr>\n",
       "  <th>Df Residuals:</th>             <td>   181</td>         <th>  BIC:               </th> <td>   2568.</td>\n",
       "</tr>\n",
       "<tr>\n",
       "  <th>Df Model:</th>                 <td>     1</td>         <th>                     </th>     <td> </td>   \n",
       "</tr>\n",
       "<tr>\n",
       "  <th>Covariance Type:</th>         <td>nonrobust</td>       <th>                     </th>     <td> </td>   \n",
       "</tr>\n",
       "</table>\n",
       "<table class=\"simpletable\">\n",
       "<tr>\n",
       "              <td></td>                <th>coef</th>     <th>std err</th>      <th>t</th>      <th>P>|t|</th>  <th>[0.025</th>    <th>0.975]</th>  \n",
       "</tr>\n",
       "<tr>\n",
       "  <th>const</th>                    <td>-1978.7597</td> <td>  347.741</td> <td>   -5.690</td> <td> 0.000</td> <td>-2664.907</td> <td>-1292.612</td>\n",
       "</tr>\n",
       "<tr>\n",
       "  <th>expected_recovery_amount</th> <td>    2.7577</td> <td>    0.345</td> <td>    7.986</td> <td> 0.000</td> <td>    2.076</td> <td>    3.439</td>\n",
       "</tr>\n",
       "</table>\n",
       "<table class=\"simpletable\">\n",
       "<tr>\n",
       "  <th>Omnibus:</th>       <td>64.493</td> <th>  Durbin-Watson:     </th> <td>   1.777</td>\n",
       "</tr>\n",
       "<tr>\n",
       "  <th>Prob(Omnibus):</th> <td> 0.000</td> <th>  Jarque-Bera (JB):  </th> <td> 185.818</td>\n",
       "</tr>\n",
       "<tr>\n",
       "  <th>Skew:</th>          <td> 1.463</td> <th>  Prob(JB):          </th> <td>4.47e-41</td>\n",
       "</tr>\n",
       "<tr>\n",
       "  <th>Kurtosis:</th>      <td> 6.977</td> <th>  Cond. No.          </th> <td>1.80e+04</td>\n",
       "</tr>\n",
       "</table><br/><br/>Warnings:<br/>[1] Standard Errors assume that the covariance matrix of the errors is correctly specified.<br/>[2] The condition number is large, 1.8e+04. This might indicate that there are<br/>strong multicollinearity or other numerical problems."
      ],
      "text/plain": [
       "<class 'statsmodels.iolib.summary.Summary'>\n",
       "\"\"\"\n",
       "                              OLS Regression Results                              \n",
       "==================================================================================\n",
       "Dep. Variable:     actual_recovery_amount   R-squared:                       0.261\n",
       "Model:                                OLS   Adj. R-squared:                  0.256\n",
       "Method:                     Least Squares   F-statistic:                     63.78\n",
       "Date:                    Fri, 27 Aug 2021   Prob (F-statistic):           1.56e-13\n",
       "Time:                            15:26:38   Log-Likelihood:                -1278.9\n",
       "No. Observations:                     183   AIC:                             2562.\n",
       "Df Residuals:                         181   BIC:                             2568.\n",
       "Df Model:                               1                                         \n",
       "Covariance Type:                nonrobust                                         \n",
       "============================================================================================\n",
       "                               coef    std err          t      P>|t|      [0.025      0.975]\n",
       "--------------------------------------------------------------------------------------------\n",
       "const                    -1978.7597    347.741     -5.690      0.000   -2664.907   -1292.612\n",
       "expected_recovery_amount     2.7577      0.345      7.986      0.000       2.076       3.439\n",
       "==============================================================================\n",
       "Omnibus:                       64.493   Durbin-Watson:                   1.777\n",
       "Prob(Omnibus):                  0.000   Jarque-Bera (JB):              185.818\n",
       "Skew:                           1.463   Prob(JB):                     4.47e-41\n",
       "Kurtosis:                       6.977   Cond. No.                     1.80e+04\n",
       "==============================================================================\n",
       "\n",
       "Warnings:\n",
       "[1] Standard Errors assume that the covariance matrix of the errors is correctly specified.\n",
       "[2] The condition number is large, 1.8e+04. This might indicate that there are\n",
       "strong multicollinearity or other numerical problems.\n",
       "\"\"\""
      ]
     },
     "execution_count": 25,
     "metadata": {},
     "output_type": "execute_result"
    }
   ],
   "source": [
    "# Import statsmodels\n",
    "import statsmodels.api as sm\n",
    "\n",
    "# Define X and y\n",
    "X = era_900_1100['expected_recovery_amount']\n",
    "y = era_900_1100['actual_recovery_amount']\n",
    "X = sm.add_constant(X)\n",
    "\n",
    "# Build linear regression model\n",
    "model = sm.OLS(y, X).fit()\n",
    "predictions = model.predict(X)\n",
    "\n",
    "# Print out the model summary statistics\n",
    "model.summary()"
   ]
  },
  {
   "cell_type": "markdown",
   "metadata": {},
   "source": [
    "**8. Regression Modeling with the True Threshold Included**\n",
    "\n",
    "At 0.256, the Expected Recovery Amount's Regression Coefficient is statistically significant. Expected Recovery Amount heavily affects the Actual Recovery Amount. \n",
    "\n",
    "The Second Regression Model will factor in the true threshold of the model (\\\\$1000 in this case). \n",
    "\n",
    "An indicator variable (a 1 or a 0) will indicate whether the Expected Recovery Amount was greater than $1000. When the true threshold is added, the Regression Coefficiant will represent the additional amount of money that was recovered by the bank because of the higher recovery strategy.\n",
    "\n",
    "If the higher recovery strategy truly resulted in a higher Actual Recovery Amount on average, the Regression coefficient will be greater then zero (indicating a heavy amount of discontinuity at the \\\\$1000 threshold). If the higher recovery strategy did not result in a higher Actual Recovery Amount on Average, the Regression Coefficient will not be statistically significant. This is because a low or negligible amount of discontinuity at the \\\\$1000 threshold would indicate that the amount of money recovered by the bank increased only as the Expected Amount Recovered also increased, and that there was not a significant change to this pattern after the bank deployed it's additional resources for these debts. "
   ]
  },
  {
   "cell_type": "code",
   "execution_count": 26,
   "metadata": {},
   "outputs": [
    {
     "data": {
      "text/html": [
       "<table class=\"simpletable\">\n",
       "<caption>OLS Regression Results</caption>\n",
       "<tr>\n",
       "  <th>Dep. Variable:</th>    <td>actual_recovery_amount</td> <th>  R-squared:         </th> <td>   0.261</td>\n",
       "</tr>\n",
       "<tr>\n",
       "  <th>Model:</th>                      <td>OLS</td>          <th>  Adj. R-squared:    </th> <td>   0.256</td>\n",
       "</tr>\n",
       "<tr>\n",
       "  <th>Method:</th>                <td>Least Squares</td>     <th>  F-statistic:       </th> <td>   63.78</td>\n",
       "</tr>\n",
       "<tr>\n",
       "  <th>Date:</th>                <td>Fri, 27 Aug 2021</td>    <th>  Prob (F-statistic):</th> <td>1.56e-13</td>\n",
       "</tr>\n",
       "<tr>\n",
       "  <th>Time:</th>                    <td>15:26:38</td>        <th>  Log-Likelihood:    </th> <td> -1278.9</td>\n",
       "</tr>\n",
       "<tr>\n",
       "  <th>No. Observations:</th>         <td>   183</td>         <th>  AIC:               </th> <td>   2562.</td>\n",
       "</tr>\n",
       "<tr>\n",
       "  <th>Df Residuals:</th>             <td>   181</td>         <th>  BIC:               </th> <td>   2568.</td>\n",
       "</tr>\n",
       "<tr>\n",
       "  <th>Df Model:</th>                 <td>     1</td>         <th>                     </th>     <td> </td>   \n",
       "</tr>\n",
       "<tr>\n",
       "  <th>Covariance Type:</th>         <td>nonrobust</td>       <th>                     </th>     <td> </td>   \n",
       "</tr>\n",
       "</table>\n",
       "<table class=\"simpletable\">\n",
       "<tr>\n",
       "              <td></td>                <th>coef</th>     <th>std err</th>      <th>t</th>      <th>P>|t|</th>  <th>[0.025</th>    <th>0.975]</th>  \n",
       "</tr>\n",
       "<tr>\n",
       "  <th>const</th>                    <td>-1978.7597</td> <td>  347.741</td> <td>   -5.690</td> <td> 0.000</td> <td>-2664.907</td> <td>-1292.612</td>\n",
       "</tr>\n",
       "<tr>\n",
       "  <th>expected_recovery_amount</th> <td>    2.7577</td> <td>    0.345</td> <td>    7.986</td> <td> 0.000</td> <td>    2.076</td> <td>    3.439</td>\n",
       "</tr>\n",
       "</table>\n",
       "<table class=\"simpletable\">\n",
       "<tr>\n",
       "  <th>Omnibus:</th>       <td>64.493</td> <th>  Durbin-Watson:     </th> <td>   1.777</td>\n",
       "</tr>\n",
       "<tr>\n",
       "  <th>Prob(Omnibus):</th> <td> 0.000</td> <th>  Jarque-Bera (JB):  </th> <td> 185.818</td>\n",
       "</tr>\n",
       "<tr>\n",
       "  <th>Skew:</th>          <td> 1.463</td> <th>  Prob(JB):          </th> <td>4.47e-41</td>\n",
       "</tr>\n",
       "<tr>\n",
       "  <th>Kurtosis:</th>      <td> 6.977</td> <th>  Cond. No.          </th> <td>1.80e+04</td>\n",
       "</tr>\n",
       "</table><br/><br/>Warnings:<br/>[1] Standard Errors assume that the covariance matrix of the errors is correctly specified.<br/>[2] The condition number is large, 1.8e+04. This might indicate that there are<br/>strong multicollinearity or other numerical problems."
      ],
      "text/plain": [
       "<class 'statsmodels.iolib.summary.Summary'>\n",
       "\"\"\"\n",
       "                              OLS Regression Results                              \n",
       "==================================================================================\n",
       "Dep. Variable:     actual_recovery_amount   R-squared:                       0.261\n",
       "Model:                                OLS   Adj. R-squared:                  0.256\n",
       "Method:                     Least Squares   F-statistic:                     63.78\n",
       "Date:                    Fri, 27 Aug 2021   Prob (F-statistic):           1.56e-13\n",
       "Time:                            15:26:38   Log-Likelihood:                -1278.9\n",
       "No. Observations:                     183   AIC:                             2562.\n",
       "Df Residuals:                         181   BIC:                             2568.\n",
       "Df Model:                               1                                         \n",
       "Covariance Type:                nonrobust                                         \n",
       "============================================================================================\n",
       "                               coef    std err          t      P>|t|      [0.025      0.975]\n",
       "--------------------------------------------------------------------------------------------\n",
       "const                    -1978.7597    347.741     -5.690      0.000   -2664.907   -1292.612\n",
       "expected_recovery_amount     2.7577      0.345      7.986      0.000       2.076       3.439\n",
       "==============================================================================\n",
       "Omnibus:                       64.493   Durbin-Watson:                   1.777\n",
       "Prob(Omnibus):                  0.000   Jarque-Bera (JB):              185.818\n",
       "Skew:                           1.463   Prob(JB):                     4.47e-41\n",
       "Kurtosis:                       6.977   Cond. No.                     1.80e+04\n",
       "==============================================================================\n",
       "\n",
       "Warnings:\n",
       "[1] Standard Errors assume that the covariance matrix of the errors is correctly specified.\n",
       "[2] The condition number is large, 1.8e+04. This might indicate that there are\n",
       "strong multicollinearity or other numerical problems.\n",
       "\"\"\""
      ]
     },
     "execution_count": 26,
     "metadata": {},
     "output_type": "execute_result"
    }
   ],
   "source": [
    "# Create indicator (0 or 1) for expected recovery amount >= $1000\n",
    "df['indicator_1000'] = np.where(df['expected_recovery_amount']<1000, 0, 1)\n",
    "era_900_1100 = df.loc[(df['expected_recovery_amount']<1100) & \n",
    "                      (df['expected_recovery_amount']>=900)]\n",
    "\n",
    "# Define X and y\n",
    "X = era_900_1100['expected_recovery_amount']\n",
    "y = era_900_1100['actual_recovery_amount']\n",
    "X = sm.add_constant(X)\n",
    "\n",
    "# Build linear regression model\n",
    "model = sm.OLS(y,X).fit()\n",
    "\n",
    "# Print the model summary\n",
    "model.summary()"
   ]
  },
  {
   "cell_type": "markdown",
   "metadata": {},
   "source": [
    "**9. Refining the Model**\n",
    "\n",
    "The regression coefficient of the true threshold was highly statistically significant at \\\\$278. This would indicate the bank is receiving a high return on it's \\\\$50 per customer strategy. \n",
    "\n",
    "To verify the results, the test will be repeated with a narrower window at $950 to $1050 to further isolate any discontinuity after the \\\\$1000 threshold. "
   ]
  },
  {
   "cell_type": "code",
   "execution_count": 27,
   "metadata": {},
   "outputs": [
    {
     "data": {
      "text/html": [
       "<table class=\"simpletable\">\n",
       "<caption>OLS Regression Results</caption>\n",
       "<tr>\n",
       "  <th>Dep. Variable:</th>    <td>actual_recovery_amount</td> <th>  R-squared:         </th> <td>   0.314</td>\n",
       "</tr>\n",
       "<tr>\n",
       "  <th>Model:</th>                      <td>OLS</td>          <th>  Adj. R-squared:    </th> <td>   0.307</td>\n",
       "</tr>\n",
       "<tr>\n",
       "  <th>Method:</th>                <td>Least Squares</td>     <th>  F-statistic:       </th> <td>   41.22</td>\n",
       "</tr>\n",
       "<tr>\n",
       "  <th>Date:</th>                <td>Fri, 27 Aug 2021</td>    <th>  Prob (F-statistic):</th> <td>1.83e-15</td>\n",
       "</tr>\n",
       "<tr>\n",
       "  <th>Time:</th>                    <td>15:26:38</td>        <th>  Log-Likelihood:    </th> <td> -1272.0</td>\n",
       "</tr>\n",
       "<tr>\n",
       "  <th>No. Observations:</th>         <td>   183</td>         <th>  AIC:               </th> <td>   2550.</td>\n",
       "</tr>\n",
       "<tr>\n",
       "  <th>Df Residuals:</th>             <td>   180</td>         <th>  BIC:               </th> <td>   2560.</td>\n",
       "</tr>\n",
       "<tr>\n",
       "  <th>Df Model:</th>                 <td>     2</td>         <th>                     </th>     <td> </td>   \n",
       "</tr>\n",
       "<tr>\n",
       "  <th>Covariance Type:</th>         <td>nonrobust</td>       <th>                     </th>     <td> </td>   \n",
       "</tr>\n",
       "</table>\n",
       "<table class=\"simpletable\">\n",
       "<tr>\n",
       "              <td></td>                <th>coef</th>     <th>std err</th>      <th>t</th>      <th>P>|t|</th>  <th>[0.025</th>    <th>0.975]</th>  \n",
       "</tr>\n",
       "<tr>\n",
       "  <th>const</th>                    <td>    3.3440</td> <td>  626.274</td> <td>    0.005</td> <td> 0.996</td> <td>-1232.440</td> <td> 1239.128</td>\n",
       "</tr>\n",
       "<tr>\n",
       "  <th>expected_recovery_amount</th> <td>    0.6430</td> <td>    0.655</td> <td>    0.981</td> <td> 0.328</td> <td>   -0.650</td> <td>    1.936</td>\n",
       "</tr>\n",
       "<tr>\n",
       "  <th>indicator_1000</th>           <td>  277.6344</td> <td>   74.043</td> <td>    3.750</td> <td> 0.000</td> <td>  131.530</td> <td>  423.739</td>\n",
       "</tr>\n",
       "</table>\n",
       "<table class=\"simpletable\">\n",
       "<tr>\n",
       "  <th>Omnibus:</th>       <td>65.977</td> <th>  Durbin-Watson:     </th> <td>   1.906</td>\n",
       "</tr>\n",
       "<tr>\n",
       "  <th>Prob(Omnibus):</th> <td> 0.000</td> <th>  Jarque-Bera (JB):  </th> <td> 186.537</td>\n",
       "</tr>\n",
       "<tr>\n",
       "  <th>Skew:</th>          <td> 1.510</td> <th>  Prob(JB):          </th> <td>3.12e-41</td>\n",
       "</tr>\n",
       "<tr>\n",
       "  <th>Kurtosis:</th>      <td> 6.917</td> <th>  Cond. No.          </th> <td>3.37e+04</td>\n",
       "</tr>\n",
       "</table><br/><br/>Warnings:<br/>[1] Standard Errors assume that the covariance matrix of the errors is correctly specified.<br/>[2] The condition number is large, 3.37e+04. This might indicate that there are<br/>strong multicollinearity or other numerical problems."
      ],
      "text/plain": [
       "<class 'statsmodels.iolib.summary.Summary'>\n",
       "\"\"\"\n",
       "                              OLS Regression Results                              \n",
       "==================================================================================\n",
       "Dep. Variable:     actual_recovery_amount   R-squared:                       0.314\n",
       "Model:                                OLS   Adj. R-squared:                  0.307\n",
       "Method:                     Least Squares   F-statistic:                     41.22\n",
       "Date:                    Fri, 27 Aug 2021   Prob (F-statistic):           1.83e-15\n",
       "Time:                            15:26:38   Log-Likelihood:                -1272.0\n",
       "No. Observations:                     183   AIC:                             2550.\n",
       "Df Residuals:                         180   BIC:                             2560.\n",
       "Df Model:                               2                                         \n",
       "Covariance Type:                nonrobust                                         \n",
       "============================================================================================\n",
       "                               coef    std err          t      P>|t|      [0.025      0.975]\n",
       "--------------------------------------------------------------------------------------------\n",
       "const                        3.3440    626.274      0.005      0.996   -1232.440    1239.128\n",
       "expected_recovery_amount     0.6430      0.655      0.981      0.328      -0.650       1.936\n",
       "indicator_1000             277.6344     74.043      3.750      0.000     131.530     423.739\n",
       "==============================================================================\n",
       "Omnibus:                       65.977   Durbin-Watson:                   1.906\n",
       "Prob(Omnibus):                  0.000   Jarque-Bera (JB):              186.537\n",
       "Skew:                           1.510   Prob(JB):                     3.12e-41\n",
       "Kurtosis:                       6.917   Cond. No.                     3.37e+04\n",
       "==============================================================================\n",
       "\n",
       "Warnings:\n",
       "[1] Standard Errors assume that the covariance matrix of the errors is correctly specified.\n",
       "[2] The condition number is large, 3.37e+04. This might indicate that there are\n",
       "strong multicollinearity or other numerical problems.\n",
       "\"\"\""
      ]
     },
     "execution_count": 27,
     "metadata": {},
     "output_type": "execute_result"
    }
   ],
   "source": [
    "# Redefine era_950_1050 so the indicator variable is included\n",
    "era_950_1050 = df.loc[(df['expected_recovery_amount']<1050) & \n",
    "                      (df['expected_recovery_amount']>=950)]\n",
    "\n",
    "# Define X and y \n",
    "X = era_900_1100[['expected_recovery_amount','indicator_1000']]\n",
    "y = era_900_1100['actual_recovery_amount']\n",
    "X = sm.add_constant(X)\n",
    "\n",
    "# Build linear regression model\n",
    "model = sm.OLS(y,X).fit()\n",
    "\n",
    "# Print the model summary\n",
    "model.summary()"
   ]
  },
  {
   "cell_type": "markdown",
   "metadata": {},
   "source": [
    "**10. Conclusion**\n",
    "\n",
    "Whether a wide window of \\\\$900 to \\\\$1100, or a narrow window of \\\\$950 to \\\\$1050 is used, Recovery Amount in the higher strategy is greater then the \\\\$50 per customer cost that the bank incurs when using a level 1 strategy. Therefore, the higher strategy is worth the cost. "
   ]
  }
 ],
 "metadata": {
  "kernelspec": {
   "display_name": "Python 3",
   "language": "python",
   "name": "python3"
  },
  "language_info": {
   "codemirror_mode": {
    "name": "ipython",
    "version": 3
   },
   "file_extension": ".py",
   "mimetype": "text/x-python",
   "name": "python",
   "nbconvert_exporter": "python",
   "pygments_lexer": "ipython3",
   "version": "3.8.3"
  }
 },
 "nbformat": 4,
 "nbformat_minor": 4
}
